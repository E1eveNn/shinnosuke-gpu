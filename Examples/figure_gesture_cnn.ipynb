{
 "cells": [
  {
   "cell_type": "markdown",
   "metadata": {},
   "source": [
    "# load dataset from shinnosuke"
   ]
  },
  {
   "cell_type": "code",
   "execution_count": 6,
   "metadata": {},
   "outputs": [],
   "source": [
    "import cupy as cp\n",
    "from shinnosuke.datasets import figure_gesture\n",
    "from shinnosuke.layers.Convolution import Conv2D,MaxPooling2D\n",
    "from shinnosuke.layers.Activation import Activation\n",
    "from shinnosuke.layers.Normalization import BatchNormalization\n",
    "from shinnosuke.layers.FC import Flatten,Dense\n",
    "from shinnosuke.layers.Base import Input\n",
    "from shinnosuke.models import Model\n",
    "from shinnosuke.utils.Preprocess import to_categorical\n",
    "from shinnosuke.utils.Optimizers import StochasticGradientDescent"
   ]
  },
  {
   "cell_type": "code",
   "execution_count": 2,
   "metadata": {},
   "outputs": [],
   "source": [
    "batch_size = 256\n",
    "num_classes = 6\n",
    "epochs = 50"
   ]
  },
  {
   "cell_type": "markdown",
   "metadata": {},
   "source": [
    "# load data"
   ]
  },
  {
   "cell_type": "code",
   "execution_count": 3,
   "metadata": {},
   "outputs": [
    {
     "name": "stdout",
     "output_type": "stream",
     "text": [
      "x_train shape: (1080, 3, 64, 64)\n",
      "y_train shape: (1080, 6)\n",
      "x_test shape: (120, 3, 64, 64)\n",
      "y_test shape: (120, 6)\n"
     ]
    }
   ],
   "source": [
    "train_set_x_orig, train_set_y_orig, test_set_x_orig, test_set_y_orig, classes=figure_gesture.load_data()\n",
    "\n",
    "trainX=train_set_x_orig/255  \n",
    "\n",
    "testX=test_set_x_orig/255\n",
    "\n",
    "trainy=to_categorical(train_set_y_orig)\n",
    "testy=to_categorical(test_set_y_orig)\n",
    "\n",
    "print('x_train shape:',trainX.shape)\n",
    "print('y_train shape:',trainy.shape)\n",
    "print('x_test shape:',testX.shape)\n",
    "print('y_test shape:',testy.shape)\n"
   ]
  },
  {
   "cell_type": "markdown",
   "metadata": {},
   "source": [
    "# show a picture of data"
   ]
  },
  {
   "cell_type": "code",
   "execution_count": 21,
   "metadata": {},
   "outputs": [
    {
     "data": {
      "text/plain": [
       "<matplotlib.image.AxesImage at 0x29c209c2a90>"
      ]
     },
     "execution_count": 21,
     "metadata": {},
     "output_type": "execute_result"
    },
    {
     "data": {
      "image/png": "[encoded data removed]",
      "text/plain": [
       "<Figure size 432x288 with 1 Axes>"
      ]
     },
     "metadata": {
      "needs_background": "light"
     },
     "output_type": "display_data"
    }
   ],
   "source": [
    "import matplotlib.pyplot as plt\n",
    "%matplotlib inline\n",
    "# rerange the data to channel last as we want to show it\n",
    "show_img=trainX[0].transpose(1,2,0)\n",
    "plt.imshow(show_img)"
   ]
  },
  {
   "cell_type": "markdown",
   "metadata": {},
   "source": [
    "# If use Convolutional networks in shinnosuke,remember that data fotmat must be (batch_size,channels,height,width)"
   ]
  },
  {
   "cell_type": "code",
   "execution_count": 7,
   "metadata": {},
   "outputs": [
    {
     "name": "stdout",
     "output_type": "stream",
     "text": [
      "\u001b[0;31m Epoch[1/50]\n",
      "1080/1080 [==============================>] -2s -452ms/batch -batch_loss: 1.6824 -batch_acc: 0.2143 -val_loss: 1.7985 -val_acc: 0.1667\n",
      "\u001b[0;31m Epoch[2/50]\n",
      "1080/1080 [==============================>] -2s -400ms/batch -batch_loss: 1.6428 -batch_acc: 0.4286 -val_loss: 1.7974 -val_acc: 0.1667\n",
      "\u001b[0;31m Epoch[3/50]\n",
      "1080/1080 [==============================>] -2s -347ms/batch -batch_loss: 1.6592 -batch_acc: 0.3036 -val_loss: 1.8705 -val_acc: 0.1667\n",
      "\u001b[0;31m Epoch[4/50]\n",
      "1080/1080 [==============================>] -2s -356ms/batch -batch_loss: 1.5264 -batch_acc: 0.4107 -val_loss: 1.7877 -val_acc: 0.1667\n",
      "\u001b[0;31m Epoch[5/50]\n",
      "1080/1080 [==============================>] -2s -419ms/batch -batch_loss: 1.6166 -batch_acc: 0.4107 -val_loss: 1.7490 -val_acc: 0.2333\n",
      "\u001b[0;31m Epoch[6/50]\n",
      "1080/1080 [==============================>] -2s -402ms/batch -batch_loss: 1.4577 -batch_acc: 0.3393 -val_loss: 2.4635 -val_acc: 0.1667\n",
      "\u001b[0;31m Epoch[7/50]\n",
      "1080/1080 [==============================>] -2s -381ms/batch -batch_loss: 1.2900 -batch_acc: 0.4643 -val_loss: 1.7999 -val_acc: 0.2250\n",
      "\u001b[0;31m Epoch[8/50]\n",
      "1080/1080 [==============================>] -2s -419ms/batch -batch_loss: 1.6943 -batch_acc: 0.3571 -val_loss: 1.5102 -val_acc: 0.3583\n",
      "\u001b[0;31m Epoch[9/50]\n",
      "1080/1080 [==============================>] -2s -399ms/batch -batch_loss: 1.2475 -batch_acc: 0.5000 -val_loss: 1.3217 -val_acc: 0.5083\n",
      "\u001b[0;31m Epoch[10/50]\n",
      "1080/1080 [==============================>] -2s -365ms/batch -batch_loss: 1.4758 -batch_acc: 0.4286 -val_loss: 2.1101 -val_acc: 0.2167\n",
      "\u001b[0;31m Epoch[11/50]\n",
      "1080/1080 [==============================>] -2s -342ms/batch -batch_loss: 1.7193 -batch_acc: 0.1607 -val_loss: 3.0315 -val_acc: 0.2000\n",
      "\u001b[0;31m Epoch[12/50]\n",
      "1080/1080 [==============================>] -2s -339ms/batch -batch_loss: 1.1868 -batch_acc: 0.4643 -val_loss: 1.4093 -val_acc: 0.4750\n",
      "\u001b[0;31m Epoch[13/50]\n",
      "1080/1080 [==============================>] -2s -338ms/batch -batch_loss: 1.0691 -batch_acc: 0.7143 -val_loss: 1.6177 -val_acc: 0.3583\n",
      "\u001b[0;31m Epoch[14/50]\n",
      "1080/1080 [==============================>] -2s -338ms/batch -batch_loss: 0.9859 -batch_acc: 0.6786 -val_loss: 1.5468 -val_acc: 0.4167\n",
      "\u001b[0;31m Epoch[15/50]\n",
      "1080/1080 [==============================>] -2s -336ms/batch -batch_loss: 1.3675 -batch_acc: 0.4286 -val_loss: 1.9912 -val_acc: 0.2833\n",
      "\u001b[0;31m Epoch[16/50]\n",
      "1080/1080 [==============================>] -2s -336ms/batch -batch_loss: 1.0449 -batch_acc: 0.6071 -val_loss: 2.4149 -val_acc: 0.2917\n",
      "\u001b[0;31m Epoch[17/50]\n",
      "1080/1080 [==============================>] -2s -338ms/batch -batch_loss: 1.1349 -batch_acc: 0.5536 -val_loss: 1.8559 -val_acc: 0.4917\n",
      "\u001b[0;31m Epoch[18/50]\n",
      "1080/1080 [==============================>] -2s -413ms/batch -batch_loss: 1.1549 -batch_acc: 0.6071 -val_loss: 1.1190 -val_acc: 0.6083\n",
      "\u001b[0;31m Epoch[19/50]\n",
      "1080/1080 [==============================>] -2s -395ms/batch -batch_loss: 0.9719 -batch_acc: 0.6250 -val_loss: 3.3213 -val_acc: 0.2917\n",
      "\u001b[0;31m Epoch[20/50]\n",
      "1080/1080 [==============================>] -2s -414ms/batch -batch_loss: 1.1916 -batch_acc: 0.5000 -val_loss: 3.0144 -val_acc: 0.2750\n",
      "\u001b[0;31m Epoch[21/50]\n",
      "1080/1080 [==============================>] -2s -378ms/batch -batch_loss: 0.9888 -batch_acc: 0.6786 -val_loss: 1.2482 -val_acc: 0.5667\n",
      "\u001b[0;31m Epoch[22/50]\n",
      "1080/1080 [==============================>] -2s -401ms/batch -batch_loss: 0.8162 -batch_acc: 0.7679 -val_loss: 1.9143 -val_acc: 0.4500\n",
      "\u001b[0;31m Epoch[23/50]\n",
      "1080/1080 [==============================>] -2s -396ms/batch -batch_loss: 0.7910 -batch_acc: 0.6786 -val_loss: 1.1916 -val_acc: 0.5667\n",
      "\u001b[0;31m Epoch[24/50]\n",
      "1080/1080 [==============================>] -2s -411ms/batch -batch_loss: 0.8542 -batch_acc: 0.6786 -val_loss: 1.5116 -val_acc: 0.4333\n",
      "\u001b[0;31m Epoch[25/50]\n",
      "1080/1080 [==============================>] -2s -372ms/batch -batch_loss: 0.8654 -batch_acc: 0.7321 -val_loss: 4.0990 -val_acc: 0.2333\n",
      "\u001b[0;31m Epoch[26/50]\n",
      "1080/1080 [==============================>] -2s -345ms/batch -batch_loss: 1.1264 -batch_acc: 0.6071 -val_loss: 1.4645 -val_acc: 0.5250\n",
      "\u001b[0;31m Epoch[27/50]\n",
      "1080/1080 [==============================>] -2s -335ms/batch -batch_loss: 0.7295 -batch_acc: 0.7857 -val_loss: 0.9017 -val_acc: 0.6417\n",
      "\u001b[0;31m Epoch[28/50]\n",
      "1080/1080 [==============================>] -2s -411ms/batch -batch_loss: 0.7574 -batch_acc: 0.7143 -val_loss: 2.4740 -val_acc: 0.3917\n",
      "\u001b[0;31m Epoch[29/50]\n",
      "1080/1080 [==============================>] -2s -413ms/batch -batch_loss: 1.0254 -batch_acc: 0.7321 -val_loss: 2.4774 -val_acc: 0.3000\n",
      "\u001b[0;31m Epoch[30/50]\n",
      "1080/1080 [==============================>] -2s -411ms/batch -batch_loss: 1.2767 -batch_acc: 0.5357 -val_loss: 1.5218 -val_acc: 0.4167\n",
      "\u001b[0;31m Epoch[31/50]\n",
      "1080/1080 [==============================>] -2s -412ms/batch -batch_loss: 0.9058 -batch_acc: 0.7321 -val_loss: 1.0185 -val_acc: 0.6250\n",
      "\u001b[0;31m Epoch[32/50]\n",
      "1080/1080 [==============================>] -2s -391ms/batch -batch_loss: 0.8514 -batch_acc: 0.7143 -val_loss: 1.6374 -val_acc: 0.4500\n",
      "\u001b[0;31m Epoch[33/50]\n",
      "1080/1080 [==============================>] -2s -392ms/batch -batch_loss: 0.7333 -batch_acc: 0.7500 -val_loss: 0.9147 -val_acc: 0.6750\n",
      "\u001b[0;31m Epoch[34/50]\n",
      "1080/1080 [==============================>] -2s -412ms/batch -batch_loss: 0.7488 -batch_acc: 0.6250 -val_loss: 2.7518 -val_acc: 0.3917\n",
      "\u001b[0;31m Epoch[35/50]\n",
      "1080/1080 [==============================>] -2s -411ms/batch -batch_loss: 0.9342 -batch_acc: 0.6607 -val_loss: 1.0114 -val_acc: 0.6167\n",
      "\u001b[0;31m Epoch[36/50]\n",
      "1080/1080 [==============================>] -2s -389ms/batch -batch_loss: 0.8444 -batch_acc: 0.6250 -val_loss: 1.0990 -val_acc: 0.6000\n",
      "\u001b[0;31m Epoch[37/50]\n",
      "1080/1080 [==============================>] -2s -356ms/batch -batch_loss: 0.6121 -batch_acc: 0.8214 -val_loss: 0.9272 -val_acc: 0.6667\n",
      "\u001b[0;31m Epoch[38/50]\n",
      "1080/1080 [==============================>] -2s -341ms/batch -batch_loss: 0.8054 -batch_acc: 0.6964 -val_loss: 1.5120 -val_acc: 0.5250\n",
      "\u001b[0;31m Epoch[39/50]\n",
      "1080/1080 [==============================>] -2s -339ms/batch -batch_loss: 0.8949 -batch_acc: 0.7143 -val_loss: 0.9750 -val_acc: 0.6250\n",
      "\u001b[0;31m Epoch[40/50]\n",
      "1080/1080 [==============================>] -2s -340ms/batch -batch_loss: 0.7070 -batch_acc: 0.7679 -val_loss: 1.7789 -val_acc: 0.4500\n",
      "\u001b[0;31m Epoch[41/50]\n",
      "1080/1080 [==============================>] -2s -417ms/batch -batch_loss: 0.5363 -batch_acc: 0.8393 -val_loss: 1.2037 -val_acc: 0.6333\n",
      "\u001b[0;31m Epoch[42/50]\n",
      "1080/1080 [==============================>] -2s -377ms/batch -batch_loss: 0.6382 -batch_acc: 0.8571 -val_loss: 2.8164 -val_acc: 0.3083\n",
      "\u001b[0;31m Epoch[43/50]\n",
      "1080/1080 [==============================>] -2s -411ms/batch -batch_loss: 0.6792 -batch_acc: 0.7321 -val_loss: 1.4654 -val_acc: 0.5000\n",
      "\u001b[0;31m Epoch[44/50]\n",
      "1080/1080 [==============================>] -2s -416ms/batch -batch_loss: 0.7480 -batch_acc: 0.7321 -val_loss: 6.1761 -val_acc: 0.2083\n",
      "\u001b[0;31m Epoch[45/50]\n",
      "1080/1080 [==============================>] -2s -385ms/batch -batch_loss: 0.5687 -batch_acc: 0.7857 -val_loss: 0.7262 -val_acc: 0.7333\n",
      "\u001b[0;31m Epoch[46/50]\n",
      "1080/1080 [==============================>] -2s -403ms/batch -batch_loss: 0.5333 -batch_acc: 0.7679 -val_loss: 1.1714 -val_acc: 0.6250\n",
      "\u001b[0;31m Epoch[47/50]\n",
      "1080/1080 [==============================>] -2s -414ms/batch -batch_loss: 1.0777 -batch_acc: 0.5714 -val_loss: 2.5837 -val_acc: 0.4083\n",
      "\u001b[0;31m Epoch[48/50]\n",
      "1080/1080 [==============================>] -2s -416ms/batch -batch_loss: 0.5450 -batch_acc: 0.8214 -val_loss: 0.7097 -val_acc: 0.7417\n",
      "\u001b[0;31m Epoch[49/50]\n",
      "1080/1080 [==============================>] -2s -395ms/batch -batch_loss: 0.5901 -batch_acc: 0.8214 -val_loss: 0.9280 -val_acc: 0.6417\n",
      "\u001b[0;31m Epoch[50/50]\n",
      "1080/1080 [==============================>] -2s -415ms/batch -batch_loss: 0.3810 -batch_acc: 0.8750 -val_loss: 0.8400 -val_acc: 0.7250\n",
      "Test loss: 0.8400094619850206\n",
      "Test accuracy: 0.725\n"
     ]
    }
   ],
   "source": [
    "X_input=Input(shape=(None,3,64,64))\n",
    "X=Conv2D(8,(5,5),padding='VALID',initializer='normal',activation='relu')(X_input)\n",
    "X=BatchNormalization(axis=1)(X)\n",
    "X=MaxPooling2D((4,4))(X)\n",
    "X=Conv2D(16,(3,3),padding='VALID',initializer='normal',activation='relu')(X)\n",
    "X=MaxPooling2D((4,4))(X)\n",
    "X=Flatten()(X)\n",
    "X=Dense(6,activation='softmax',initializer='normal')(X)\n",
    "model=Model(inputs=X_input,outputs=X)\n",
    "model.compile(optimizer=StochasticGradientDescent(lr=0.1),loss='sparse_categorical_cross_entropy')\n",
    "model.fit(trainX,trainy,batch_size=batch_size,epochs=epochs,validation_data=(testX,testy))\n",
    "score = model.evaluate(testX, testy)\n",
    "print('Test loss:', score[1])\n",
    "print('Test accuracy:', score[0])"
   ]
  },
  {
   "cell_type": "markdown",
   "metadata": {},
   "source": [
    "# Compare to Keras-gpu"
   ]
  },
  {
   "cell_type": "code",
   "execution_count": 8,
   "metadata": {},
   "outputs": [],
   "source": [
    "import keras\n",
    "from keras.models import Sequential,Model\n",
    "from keras.layers import Dense, Dropout, Flatten,Input,Conv2D, MaxPooling2D,BatchNormalization,Activation"
   ]
  },
  {
   "cell_type": "markdown",
   "metadata": {},
   "source": [
    "# Convert data to numpy array "
   ]
  },
  {
   "cell_type": "code",
   "execution_count": 9,
   "metadata": {},
   "outputs": [],
   "source": [
    "trainX=cp.asnumpy(trainX)\n",
    "trainy=cp.asnumpy(trainy)\n",
    "testX=cp.asnumpy(testX)\n",
    "testy=cp.asnumpy(testy)"
   ]
  },
  {
   "cell_type": "code",
   "execution_count": 12,
   "metadata": {},
   "outputs": [
    {
     "name": "stdout",
     "output_type": "stream",
     "text": [
      "Train on 1080 samples, validate on 120 samples\n",
      "Epoch 1/50\n",
      "1080/1080 [==============================] - 2s 1ms/step - loss: 1.7893 - acc: 0.1991 - val_loss: 2.2341 - val_acc: 0.2167\n",
      "Epoch 2/50\n",
      "1080/1080 [==============================] - 1s 582us/step - loss: 1.7418 - acc: 0.2685 - val_loss: 1.7823 - val_acc: 0.1750\n",
      "Epoch 3/50\n",
      "1080/1080 [==============================] - 1s 579us/step - loss: 1.7220 - acc: 0.2676 - val_loss: 6.9724 - val_acc: 0.1917\n",
      "Epoch 4/50\n",
      "1080/1080 [==============================] - 1s 576us/step - loss: 1.7523 - acc: 0.2963 - val_loss: 1.9221 - val_acc: 0.2750\n",
      "Epoch 5/50\n",
      "1080/1080 [==============================] - 1s 574us/step - loss: 1.6098 - acc: 0.4019 - val_loss: 13.4317 - val_acc: 0.1667\n",
      "Epoch 6/50\n",
      "1080/1080 [==============================] - 1s 576us/step - loss: 2.0057 - acc: 0.1944 - val_loss: 5.3820 - val_acc: 0.1667\n",
      "Epoch 7/50\n",
      "1080/1080 [==============================] - 1s 575us/step - loss: 1.7155 - acc: 0.2787 - val_loss: 3.1049 - val_acc: 0.1667\n",
      "Epoch 8/50\n",
      "1080/1080 [==============================] - 1s 575us/step - loss: 1.6286 - acc: 0.3611 - val_loss: 3.0411 - val_acc: 0.3083\n",
      "Epoch 9/50\n",
      "1080/1080 [==============================] - 1s 574us/step - loss: 1.5576 - acc: 0.3704 - val_loss: 3.6891 - val_acc: 0.2333\n",
      "Epoch 10/50\n",
      "1080/1080 [==============================] - 1s 572us/step - loss: 1.5150 - acc: 0.4019 - val_loss: 3.4651 - val_acc: 0.1917\n",
      "Epoch 11/50\n",
      "1080/1080 [==============================] - 1s 594us/step - loss: 1.4551 - acc: 0.4204 - val_loss: 8.0961 - val_acc: 0.1750\n",
      "Epoch 12/50\n",
      "1080/1080 [==============================] - 1s 574us/step - loss: 1.6825 - acc: 0.4630 - val_loss: 2.6860 - val_acc: 0.3250\n",
      "Epoch 13/50\n",
      "1080/1080 [==============================] - 1s 560us/step - loss: 1.3930 - acc: 0.5046 - val_loss: 3.6602 - val_acc: 0.2417\n",
      "Epoch 14/50\n",
      "1080/1080 [==============================] - 1s 564us/step - loss: 1.4434 - acc: 0.4917 - val_loss: 2.1057 - val_acc: 0.3917\n",
      "Epoch 15/50\n",
      "1080/1080 [==============================] - 1s 561us/step - loss: 1.3100 - acc: 0.4750 - val_loss: 2.1778 - val_acc: 0.3917\n",
      "Epoch 16/50\n",
      "1080/1080 [==============================] - 1s 562us/step - loss: 1.3037 - acc: 0.4991 - val_loss: 2.7823 - val_acc: 0.3833\n",
      "Epoch 17/50\n",
      "1080/1080 [==============================] - 1s 566us/step - loss: 1.3264 - acc: 0.4963 - val_loss: 2.1820 - val_acc: 0.4583\n",
      "Epoch 18/50\n",
      "1080/1080 [==============================] - 1s 575us/step - loss: 1.3062 - acc: 0.5185 - val_loss: 2.1134 - val_acc: 0.4250\n",
      "Epoch 19/50\n",
      "1080/1080 [==============================] - 1s 562us/step - loss: 1.2777 - acc: 0.5213 - val_loss: 1.7933 - val_acc: 0.4167\n",
      "Epoch 20/50\n",
      "1080/1080 [==============================] - 1s 562us/step - loss: 1.3256 - acc: 0.5472 - val_loss: 1.1784 - val_acc: 0.5417\n",
      "Epoch 21/50\n",
      "1080/1080 [==============================] - 1s 561us/step - loss: 1.1962 - acc: 0.5491 - val_loss: 1.1587 - val_acc: 0.6000\n",
      "Epoch 22/50\n",
      "1080/1080 [==============================] - 1s 570us/step - loss: 1.1016 - acc: 0.5731 - val_loss: 1.3375 - val_acc: 0.4417\n",
      "Epoch 23/50\n",
      "1080/1080 [==============================] - 1s 561us/step - loss: 1.1513 - acc: 0.5731 - val_loss: 1.2104 - val_acc: 0.5000\n",
      "Epoch 24/50\n",
      "1080/1080 [==============================] - 1s 565us/step - loss: 1.0779 - acc: 0.6028 - val_loss: 1.2800 - val_acc: 0.4917\n",
      "Epoch 25/50\n",
      "1080/1080 [==============================] - 1s 568us/step - loss: 1.0913 - acc: 0.5648 - val_loss: 1.4441 - val_acc: 0.4667\n",
      "Epoch 26/50\n",
      "1080/1080 [==============================] - 1s 559us/step - loss: 0.9886 - acc: 0.6407 - val_loss: 1.3369 - val_acc: 0.4333\n",
      "Epoch 27/50\n",
      "1080/1080 [==============================] - 1s 555us/step - loss: 1.0046 - acc: 0.6167 - val_loss: 1.2075 - val_acc: 0.5500\n",
      "Epoch 28/50\n",
      "1080/1080 [==============================] - 1s 559us/step - loss: 1.0517 - acc: 0.6120 - val_loss: 1.1315 - val_acc: 0.6000\n",
      "Epoch 29/50\n",
      "1080/1080 [==============================] - 1s 556us/step - loss: 0.8810 - acc: 0.6593 - val_loss: 1.4238 - val_acc: 0.3833\n",
      "Epoch 30/50\n",
      "1080/1080 [==============================] - 1s 560us/step - loss: 0.8979 - acc: 0.6676 - val_loss: 1.4343 - val_acc: 0.5083\n",
      "Epoch 31/50\n",
      "1080/1080 [==============================] - 1s 559us/step - loss: 0.9800 - acc: 0.6713 - val_loss: 1.7131 - val_acc: 0.3250\n",
      "Epoch 32/50\n",
      "1080/1080 [==============================] - 1s 558us/step - loss: 0.9322 - acc: 0.6537 - val_loss: 1.2236 - val_acc: 0.6000\n",
      "Epoch 33/50\n",
      "1080/1080 [==============================] - 1s 557us/step - loss: 0.8170 - acc: 0.6935 - val_loss: 1.4700 - val_acc: 0.4583\n",
      "Epoch 34/50\n",
      "1080/1080 [==============================] - 1s 560us/step - loss: 1.0100 - acc: 0.6481 - val_loss: 3.2682 - val_acc: 0.4083\n",
      "Epoch 35/50\n",
      "1080/1080 [==============================] - 1s 556us/step - loss: 0.7894 - acc: 0.7056 - val_loss: 3.2516 - val_acc: 0.3500\n",
      "Epoch 36/50\n",
      "1080/1080 [==============================] - 1s 563us/step - loss: 0.8123 - acc: 0.6750 - val_loss: 0.9845 - val_acc: 0.6667\n",
      "Epoch 37/50\n",
      "1080/1080 [==============================] - 1s 557us/step - loss: 0.7315 - acc: 0.7278 - val_loss: 1.2379 - val_acc: 0.6000\n",
      "Epoch 38/50\n",
      "1080/1080 [==============================] - 1s 559us/step - loss: 0.8074 - acc: 0.7065 - val_loss: 1.2145 - val_acc: 0.6083\n",
      "Epoch 39/50\n",
      "1080/1080 [==============================] - 1s 558us/step - loss: 0.8554 - acc: 0.7074 - val_loss: 1.2367 - val_acc: 0.5333\n",
      "Epoch 40/50\n",
      "1080/1080 [==============================] - 1s 558us/step - loss: 0.7774 - acc: 0.7352 - val_loss: 1.4015 - val_acc: 0.4667\n",
      "Epoch 41/50\n",
      "1080/1080 [==============================] - 1s 557us/step - loss: 0.6294 - acc: 0.7759 - val_loss: 1.3922 - val_acc: 0.5083\n",
      "Epoch 42/50\n",
      "1080/1080 [==============================] - 1s 564us/step - loss: 1.3876 - acc: 0.5907 - val_loss: 12.3663 - val_acc: 0.1917\n",
      "Epoch 43/50\n",
      "1080/1080 [==============================] - 1s 556us/step - loss: 0.7498 - acc: 0.7398 - val_loss: 9.9578 - val_acc: 0.2750\n",
      "Epoch 44/50\n",
      "1080/1080 [==============================] - 1s 559us/step - loss: 0.9369 - acc: 0.6583 - val_loss: 10.6797 - val_acc: 0.2500\n",
      "Epoch 45/50\n",
      "1080/1080 [==============================] - 1s 561us/step - loss: 0.6902 - acc: 0.7509 - val_loss: 10.2411 - val_acc: 0.2000\n",
      "Epoch 46/50\n",
      "1080/1080 [==============================] - 1s 567us/step - loss: 0.8248 - acc: 0.6963 - val_loss: 10.5316 - val_acc: 0.2000\n",
      "Epoch 47/50\n",
      "1080/1080 [==============================] - 1s 560us/step - loss: 0.7044 - acc: 0.7509 - val_loss: 6.3822 - val_acc: 0.4167\n",
      "Epoch 48/50\n",
      "1080/1080 [==============================] - 1s 556us/step - loss: 1.1423 - acc: 0.6046 - val_loss: 5.9455 - val_acc: 0.3000\n",
      "Epoch 49/50\n",
      "1080/1080 [==============================] - 1s 557us/step - loss: 0.6565 - acc: 0.7639 - val_loss: 5.7669 - val_acc: 0.3333\n",
      "Epoch 50/50\n",
      "1080/1080 [==============================] - 1s 559us/step - loss: 0.7406 - acc: 0.7306 - val_loss: 3.0138 - val_acc: 0.4417\n",
      "120/120 [==============================] - 0s 641us/step\n",
      "Test loss: 3.0137996037801105\n",
      "Test accuracy: 0.44166666666666665\n"
     ]
    }
   ],
   "source": [
    "X_input=Input(shape=(3,64,64))\n",
    "X=Conv2D(8,(5,5),padding='VALID',kernel_initializer='normal',activation='relu',data_format='channels_first')(X_input)\n",
    "X=BatchNormalization(axis=1)(X)\n",
    "X=MaxPooling2D((4,4))(X)\n",
    "X=Conv2D(16,(3,3),padding='SAME',kernel_initializer='normal',activation='relu',data_format='channels_first')(X)\n",
    "X=MaxPooling2D((4,4))(X)\n",
    "X=Flatten()(X)\n",
    "X=Dense(6,kernel_initializer='normal',activation='softmax')(X)\n",
    "model=Model(inputs=X_input,outputs=X)\n",
    "model.compile(optimizer=keras.optimizers.sgd(lr=0.1),loss='categorical_crossentropy',metrics=['accuracy'])\n",
    "model.fit(trainX,trainy,batch_size=batch_size,epochs=epochs,validation_data=(testX,testy))\n",
    "score = model.evaluate(testX, testy)\n",
    "print('Test loss:', score[0])\n",
    "print('Test accuracy:', score[1])"
   ]
  },
  {
   "cell_type": "markdown",
   "metadata": {},
   "source": [
    "# We can see that shinnosuke-gpu performs better than Keras-gpu on both training and test datasets.And the same problem is the speed.Keras-gpu is faster than shinnosuke-gpu,that may due to  Keras-gpu is written by CUDA and most operations are conducted on GPU directly,while shinnosuke-gpu is written by cupy(a python library),so there exists frequency data exchanges between GPU and memory,which remarkably slow down the speed.I will try to solve this problem in the future."
   ]
  },
  {
   "cell_type": "code",
   "execution_count": null,
   "metadata": {},
   "outputs": [],
   "source": []
  }
 ],
 "metadata": {
  "kernelspec": {
   "display_name": "Python 3",
   "language": "python",
   "name": "python3"
  },
  "language_info": {
   "codemirror_mode": {
    "name": "ipython",
    "version": 3
   },
   "file_extension": ".py",
   "mimetype": "text/x-python",
   "name": "python",
   "nbconvert_exporter": "python",
   "pygments_lexer": "ipython3",
   "version": "3.6.7"
  }
 },
 "nbformat": 4,
 "nbformat_minor": 2
}
