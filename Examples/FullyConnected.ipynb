{
 "cells": [
  {
   "cell_type": "markdown",
   "metadata": {},
   "source": [
    "# dataset is minist"
   ]
  },
  {
   "cell_type": "code",
   "execution_count": 1,
   "metadata": {},
   "outputs": [],
   "source": [
    "import scipy.io as sio\n",
    "import cupy as cp  #for gpu"
   ]
  },
  {
   "cell_type": "code",
   "execution_count": 2,
   "metadata": {},
   "outputs": [],
   "source": [
    "datas=sio.loadmat('../datasets/mnist.mat')\n",
    "trainX=cp.asarray(datas['Xtrain'])\n",
    "trainy=cp.asarray(datas['ytrain'])\n",
    "testX=cp.asarray(datas['Xtest'])\n",
    "testy=cp.asarray(datas['ytest'])"
   ]
  },
  {
   "cell_type": "code",
   "execution_count": 3,
   "metadata": {},
   "outputs": [
    {
     "name": "stdout",
     "output_type": "stream",
     "text": [
      "trainX shape: (55000, 784)\n",
      "trainy shape: (55000, 10)\n",
      "testX shape: (10000, 784)\n",
      "testy shape: (10000, 10)\n"
     ]
    }
   ],
   "source": [
    "print('trainX shape:',trainX.shape)\n",
    "print('trainy shape:',trainy.shape)\n",
    "print('testX shape:',testX.shape)\n",
    "print('testy shape:',testy.shape)"
   ]
  },
  {
   "cell_type": "markdown",
   "metadata": {},
   "source": [
    "# shinnosuke-gpu"
   ]
  },
  {
   "cell_type": "code",
   "execution_count": 4,
   "metadata": {},
   "outputs": [],
   "source": [
    "from shinnosuke.models import Model\n",
    "from shinnosuke.layers.Base import Input,Variable,Constant,Matmul,Add\n",
    "from shinnosuke.layers.FC import Dense"
   ]
  },
  {
   "cell_type": "code",
   "execution_count": 5,
   "metadata": {},
   "outputs": [
    {
     "name": "stdout",
     "output_type": "stream",
     "text": [
      "\u001b[0;31m Epoch[1/5]\n",
      "55296/55296 [==============================>] -8s -76ms/batch -batch_loss: 0.4600 -batch_acc: 0.8704 \n",
      "\u001b[0;31m Epoch[2/5]\n",
      "55296/55296 [==============================>] -7s -62ms/batch -batch_loss: 0.3461 -batch_acc: 0.9074 \n",
      "\u001b[0;31m Epoch[3/5]\n",
      "55296/55296 [==============================>] -8s -75ms/batch -batch_loss: 0.2463 -batch_acc: 0.9213 \n",
      "\u001b[0;31m Epoch[4/5]\n",
      "55296/55296 [==============================>] -8s -74ms/batch -batch_loss: 0.2294 -batch_acc: 0.9259 \n",
      "\u001b[0;31m Epoch[5/5]\n",
      "55296/55296 [==============================>] -10s -93ms/batch -batch_loss: 0.2010 -batch_acc: 0.9491 \n"
     ]
    }
   ],
   "source": [
    "X_input=Input(shape=(None,784))\n",
    "X=Dense(500,activation='relu')(X_input)\n",
    "X=Dense(10,activation='softmax')(X)\n",
    "model=Model(inputs=X_input,outputs=X)\n",
    "model.compile(optimizer='sgd',loss='sparse_categorical_crossentropy')\n",
    "model.fit(trainX,trainy,batch_size=512,epochs=5,validation_ratio=0.)"
   ]
  },
  {
   "cell_type": "code",
   "execution_count": 6,
   "metadata": {},
   "outputs": [
    {
     "name": "stdout",
     "output_type": "stream",
     "text": [
      "test acc: 0.937100, test loss: 0.225211\n"
     ]
    }
   ],
   "source": [
    "acc,loss=model.evaluate(testX,testy)\n",
    "print('test acc: %f, test loss: %f'%(acc,loss))"
   ]
  },
  {
   "cell_type": "markdown",
   "metadata": {},
   "source": [
    "# Compare with keras-gpu"
   ]
  },
  {
   "cell_type": "code",
   "execution_count": 8,
   "metadata": {},
   "outputs": [],
   "source": [
    "from keras.layers import Dense,Input\n",
    "from keras.models import Model"
   ]
  },
  {
   "cell_type": "code",
   "execution_count": 9,
   "metadata": {},
   "outputs": [],
   "source": [
    "trainX=cp.asnumpy(trainX)\n",
    "trainy=cp.asnumpy(trainy)\n",
    "testX=cp.asnumpy(testX)\n",
    "testy=cp.asnumpy(testy)"
   ]
  },
  {
   "cell_type": "markdown",
   "metadata": {},
   "source": [
    "there are only little differences to keras,such as shape need to specify batch_size with None,and for one-hot labels,use sparse_categorical_crossentropy instead of categorical_crossentropy"
   ]
  },
  {
   "cell_type": "code",
   "execution_count": 14,
   "metadata": {},
   "outputs": [
    {
     "name": "stdout",
     "output_type": "stream",
     "text": [
      "Epoch 1/5\n",
      "55000/55000 [==============================] - 2s 44us/step - loss: 1.8233 - acc: 0.5510: 0s - loss: 1.8394 - acc: 0.54\n",
      "Epoch 2/5\n",
      "55000/55000 [==============================] - 2s 34us/step - loss: 1.1809 - acc: 0.7771\n",
      "Epoch 3/5\n",
      "55000/55000 [==============================] - 2s 34us/step - loss: 0.8688 - acc: 0.8255\n",
      "Epoch 4/5\n",
      "55000/55000 [==============================] - 2s 34us/step - loss: 0.7111 - acc: 0.8462\n",
      "Epoch 5/5\n",
      "55000/55000 [==============================] - 2s 34us/step - loss: 0.6195 - acc: 0.8577\n"
     ]
    },
    {
     "data": {
      "text/plain": [
       "<keras.callbacks.History at 0x16b49e6c2b0>"
      ]
     },
     "execution_count": 14,
     "metadata": {},
     "output_type": "execute_result"
    }
   ],
   "source": [
    "X_input=Input(shape=(784,))\n",
    "X=Dense(500,activation='relu')(X_input)\n",
    "X=Dense(10,activation='softmax')(X)\n",
    "model=Model(inputs=X_input,outputs=X)\n",
    "model.compile(optimizer='sgd',loss='categorical_crossentropy',metrics=['accuracy'])\n",
    "model.fit(trainX,trainy,batch_size=512,epochs=5)"
   ]
  },
  {
   "cell_type": "code",
   "execution_count": 17,
   "metadata": {},
   "outputs": [
    {
     "name": "stdout",
     "output_type": "stream",
     "text": [
      "10000/10000 [==============================] - 1s 143us/step\n",
      "test acc: 0.873400, test loss: 0.559828\n"
     ]
    }
   ],
   "source": [
    "preds=model.evaluate(testX,testy)\n",
    "print('test acc: %f, test loss: %f'%(preds[1],preds[0]))"
   ]
  },
  {
   "cell_type": "markdown",
   "metadata": {},
   "source": [
    "# shinnosuke is slower than keras,which will be optimized in the future,but shinnosuke has a better performance on both training set and test set"
   ]
  },
  {
   "cell_type": "code",
   "execution_count": null,
   "metadata": {},
   "outputs": [],
   "source": []
  }
 ],
 "metadata": {
  "kernelspec": {
   "display_name": "Python 3",
   "language": "python",
   "name": "python3"
  },
  "language_info": {
   "codemirror_mode": {
    "name": "ipython",
    "version": 3
   },
   "file_extension": ".py",
   "mimetype": "text/x-python",
   "name": "python",
   "nbconvert_exporter": "python",
   "pygments_lexer": "ipython3",
   "version": "3.6.7"
  }
 },
 "nbformat": 4,
 "nbformat_minor": 2
}
