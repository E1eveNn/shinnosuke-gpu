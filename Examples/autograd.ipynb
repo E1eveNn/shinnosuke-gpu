{
 "cells": [
  {
   "cell_type": "code",
   "execution_count": 4,
   "metadata": {},
   "outputs": [],
   "source": [
    "from shinnosuke.models import Sequential\n",
    "from shinnosuke.layers.FC import Dense\n",
    "import cupy as cp"
   ]
  },
  {
   "cell_type": "markdown",
   "metadata": {},
   "source": [
    "# Fullyconnected"
   ]
  },
  {
   "cell_type": "code",
   "execution_count": 5,
   "metadata": {},
   "outputs": [],
   "source": [
    "#initialize inputs\n",
    "cp.random.seed(0)\n",
    "X=cp.random.rand(3,5)"
   ]
  },
  {
   "cell_type": "code",
   "execution_count": 6,
   "metadata": {},
   "outputs": [],
   "source": [
    "#announce a Dense layer\n",
    "fullyconnected=Dense(4,n_in=5)\n",
    "m=Sequential()\n",
    "m.add(fullyconnected)\n",
    "m.compile(optimizer='sgd',loss='mse')  #don't mean to train it, use compile to initialize parameters\n",
    "#feed X as fullyconnected's inputs\n",
    "fullyconnected.feed(X,'inputs')\n",
    "#forward\n",
    "fullyconnected.forward()\n",
    "#feed gradient to fullyconnected\n",
    "fullyconnected.feed(cp.ones_like(fullyconnected.get_value()),'grads')\n",
    "#backward\n",
    "fullyconnected.backward()\n",
    "W,b=fullyconnected.variables"
   ]
  },
  {
   "cell_type": "markdown",
   "metadata": {},
   "source": [
    "# Variable combinations"
   ]
  },
  {
   "cell_type": "code",
   "execution_count": 7,
   "metadata": {},
   "outputs": [],
   "source": [
    "from shinnosuke.layers.Base import Variable\n",
    "\n",
    "a=Variable(X) # the same as X in previous fullyconnected\n",
    "c=Variable(W.get_value())  # the same as W in previous fullyconnected\n",
    "d=Variable(b.get_value())  # the same as b in previous fullyconnected\n",
    "out2 = a @ c + d  # @ represents for matmul\n",
    "\n",
    "out2.grads=cp.ones_like(out2.get_value())\n",
    "# by using grad(),shinnosuke will automatically calculate the gradient from out2 to c\n",
    "c.grad()"
   ]
  },
  {
   "cell_type": "markdown",
   "metadata": {},
   "source": [
    "# Comparison"
   ]
  },
  {
   "cell_type": "code",
   "execution_count": 8,
   "metadata": {},
   "outputs": [
    {
     "name": "stdout",
     "output_type": "stream",
     "text": [
      "out1:  [[-0.15384408  0.19250684  0.18699572 -0.17816024]\n",
      " [-0.62395434 -0.26004924 -0.27468539  0.14679683]\n",
      " [-0.49466434 -0.13068714 -0.27673787  0.09160534]]\n",
      "out2:  [[-0.15384408  0.19250684  0.18699572 -0.17816024]\n",
      " [-0.62395434 -0.26004924 -0.27468539  0.14679683]\n",
      " [-0.49466434 -0.13068714 -0.27673787  0.09160534]]\n"
     ]
    }
   ],
   "source": [
    "print('out1: ',fullyconnected.get_value())\n",
    "print('out2: ',out2.get_value())"
   ]
  },
  {
   "cell_type": "code",
   "execution_count": 9,
   "metadata": {},
   "outputs": [
    {
     "name": "stdout",
     "output_type": "stream",
     "text": [
      "W grads:  [[1.2845643  1.2845643  1.2845643  1.2845643 ]\n",
      " [1.51167692 1.51167692 1.51167692 1.51167692]\n",
      " [1.63723773 1.63723773 1.63723773 1.63723773]\n",
      " [1.24121109 1.24121109 1.24121109 1.24121109]\n",
      " [0.14783158 0.14783158 0.14783158 0.14783158]]\n",
      "c grads:  [[1.2845643  1.2845643  1.2845643  1.2845643 ]\n",
      " [1.51167692 1.51167692 1.51167692 1.51167692]\n",
      " [1.63723773 1.63723773 1.63723773 1.63723773]\n",
      " [1.24121109 1.24121109 1.24121109 1.24121109]\n",
      " [0.14783158 0.14783158 0.14783158 0.14783158]]\n"
     ]
    }
   ],
   "source": [
    "print('W grads: ',W.grads)\n",
    "print('c grads: ',c.grads)"
   ]
  },
  {
   "cell_type": "code",
   "execution_count": 10,
   "metadata": {},
   "outputs": [
    {
     "name": "stdout",
     "output_type": "stream",
     "text": [
      "b grads:  [[3. 3. 3. 3.]]\n",
      "d grads:  [[3. 3. 3. 3.]]\n"
     ]
    }
   ],
   "source": [
    "print('b grads: ',b.grads)\n",
    "print('d grads: ',d.grads)"
   ]
  }
 ],
 "metadata": {
  "kernelspec": {
   "display_name": "Python 3",
   "language": "python",
   "name": "python3"
  },
  "language_info": {
   "codemirror_mode": {
    "name": "ipython",
    "version": 3
   },
   "file_extension": ".py",
   "mimetype": "text/x-python",
   "name": "python",
   "nbconvert_exporter": "python",
   "pygments_lexer": "ipython3",
   "version": "3.6.7"
  }
 },
 "nbformat": 4,
 "nbformat_minor": 2
}
